{
 "cells": [
  {
   "cell_type": "markdown",
   "metadata": {},
   "source": [
    " # Importing Required libraries"
   ]
  },
  {
   "cell_type": "code",
   "execution_count": null,
   "metadata": {
    "_cell_guid": "b1076dfc-b9ad-4769-8c92-a6c4dae69d19",
    "_uuid": "8f2839f25d086af736a60e9eeb907d3b93b6e0e5"
   },
   "outputs": [],
   "source": [
    "import numpy as np\n",
    "import pandas as pd\n",
    "import os\n",
    "import zipfile\n",
    "import cv2\n",
    "from sklearn.model_selection import train_test_split\n",
    "from sklearn.preprocessing import StandardScaler\n",
    "from sklearn.svm import SVC\n",
    "from sklearn.metrics import accuracy_score, classification_report, confusion_matrix\n",
    "from sklearn.manifold import TSNE\n",
    "import matplotlib.pyplot as plt\n",
    "from tqdm import tqdm\n",
    "import plotly.express as px\n",
    "import random\n",
    "from PIL import Image\n",
    "import plotly.graph_objects as go\n",
    "for dirname, _, filenames in os.walk('/kaggle/input'):\n",
    "    for filename in filenames:\n",
    "        print(os.path.join(dirname, filename))"
   ]
  },
  {
   "cell_type": "markdown",
   "metadata": {},
   "source": [
    "# Extracting the datasets"
   ]
  },
  {
   "cell_type": "code",
   "execution_count": null,
   "metadata": {},
   "outputs": [],
   "source": [
    "with zipfile.ZipFile('C:/Users/admin/Desktop/Prodigy Infotech Internship 2024/train.csv', 'r') as zip_ref:\n",
    "    zip_ref.extractall('/kaggle/working/train')\n",
    "with zipfile.ZipFile('C:/Users/admin/Desktop/Prodigy Infotech Internship 2024/test.csv', 'r') as zip_ref:\n",
    "    zip_ref.extractall('/kaggle/working/test')"
   ]
  },
  {
   "cell_type": "markdown",
   "metadata": {},
   "source": [
    "# Setting up paths"
   ]
  },
  {
   "cell_type": "code",
   "execution_count": null,
   "metadata": {},
   "outputs": [],
   "source": [
    "train_dir = '/kaggle/working/train/train'\n",
    "test_dir = '/kaggle/working/test/test1'"
   ]
  },
  {
   "cell_type": "markdown",
   "metadata": {},
   "source": [
    "# Function to load and preprocess the images"
   ]
  },
  {
   "cell_type": "code",
   "execution_count": null,
   "metadata": {},
   "outputs": [],
   "source": [
    "def load_images(folder, img_size=(64, 64), sample_count=20, label_filter=None):\n",
    "    images = []\n",
    "    labels = []\n",
    "    filenames = os.listdir(folder)\n",
    "    \n",
    "    if label_filter is not None:\n",
    "        filenames = [fname for fname in filenames if label_filter in fname]\n",
    "    \n",
    "    random.shuffle(filenames)\n",
    "    for img in filenames[:sample_count]:\n",
    "        try:\n",
    "            img_path = os.path.join(folder, img)\n",
    "            img_pil = Image.open(img_path)\n",
    "            img_pil = img_pil.resize(img_size)\n",
    "            img_np = np.array(img_pil) / 255.0  # Normalize pixel values\n",
    "            images.append(img_np)\n",
    "            labels.append(0 if 'cat' in img else 1)\n",
    "        except Exception as e:\n",
    "            print(f\"Error loading image {img}: {e}\")\n",
    "    \n",
    "    return np.array(images), np.array(labels)"
   ]
  },
  {
   "cell_type": "markdown",
   "metadata": {},
   "source": [
    "# Visualize images with labels"
   ]
  },
  {
   "cell_type": "code",
   "execution_count": null,
   "metadata": {},
   "outputs": [],
   "source": [
    "def visualize_images(images, labels, sample_count=20):\n",
    "    fig, axes = plt.subplots(4, 5, figsize=(15, 12))\n",
    "    axes = axes.flatten()\n",
    "    \n",
    "    for i in range(sample_count):\n",
    "        axes[i].imshow(images[i])\n",
    "        axes[i].set_title('Cat' if labels[i] == 0 else 'Dog')\n",
    "        axes[i].axis('off')\n",
    "    \n",
    "    plt.tight_layout()\n",
    "    plt.show()"
   ]
  },
  {
   "cell_type": "markdown",
   "metadata": {},
   "source": [
    "# Load and visualize cat images"
   ]
  },
  {
   "cell_type": "code",
   "execution_count": null,
   "metadata": {},
   "outputs": [],
   "source": [
    "cat_images, cat_labels = load_images(train_dir, sample_count=20, label_filter='cat')\n",
    "visualize_images(cat_images, cat_labels, sample_count=20)"
   ]
  },
  {
   "cell_type": "markdown",
   "metadata": {},
   "source": [
    "# Load and visualize dog images"
   ]
  },
  {
   "cell_type": "code",
   "execution_count": null,
   "metadata": {},
   "outputs": [],
   "source": [
    "dog_images, dog_labels = load_images(train_dir, sample_count=20, label_filter='dog')\n",
    "visualize_images(dog_images, dog_labels, sample_count=20)"
   ]
  },
  {
   "cell_type": "markdown",
   "metadata": {},
   "source": [
    "# Load and visualize both cat and dog images"
   ]
  },
  {
   "cell_type": "code",
   "execution_count": null,
   "metadata": {},
   "outputs": [],
   "source": [
    "all_images, all_labels = load_images(train_dir, sample_count=20)\n",
    "visualize_images(all_images, all_labels, sample_count=20)"
   ]
  },
  {
   "cell_type": "markdown",
   "metadata": {},
   "source": [
    "# Loading and preprocessing the training data"
   ]
  },
  {
   "cell_type": "code",
   "execution_count": null,
   "metadata": {},
   "outputs": [],
   "source": [
    "images, labels = load_images(train_dir, sample_count=10000) \n",
    "images = images / 255.0"
   ]
  },
  {
   "cell_type": "markdown",
   "metadata": {},
   "source": [
    "# Display the shape of the images array"
   ]
  },
  {
   "cell_type": "code",
   "execution_count": null,
   "metadata": {},
   "outputs": [],
   "source": [
    "print(\"Shape of images array:\", images.shape)"
   ]
  },
  {
   "cell_type": "markdown",
   "metadata": {},
   "source": [
    "# Display the shape of the first image"
   ]
  },
  {
   "cell_type": "code",
   "execution_count": null,
   "metadata": {},
   "outputs": [],
   "source": [
    "print(\"Shape of the first image:\", images[0].shape)"
   ]
  },
  {
   "cell_type": "markdown",
   "metadata": {},
   "source": [
    " # Display the first 2 images"
   ]
  },
  {
   "cell_type": "code",
   "execution_count": null,
   "metadata": {},
   "outputs": [],
   "source": [
    "print(images[:2]) \n",
    "print(labels[:2])"
   ]
  },
  {
   "cell_type": "markdown",
   "metadata": {},
   "source": [
    "# Flattening the images for the SVM input"
   ]
  },
  {
   "cell_type": "code",
   "execution_count": null,
   "metadata": {},
   "outputs": [],
   "source": [
    "n_samples, img_height, img_width, img_channels = images.shape\n",
    "images_flat = images.reshape(n_samples, -1)"
   ]
  },
  {
   "cell_type": "markdown",
   "metadata": {},
   "source": [
    "# Standardizing the features"
   ]
  },
  {
   "cell_type": "code",
   "execution_count": null,
   "metadata": {},
   "outputs": [],
   "source": [
    "scaler = StandardScaler()\n",
    "images_flat_scaled = scaler.fit_transform(images_flat)"
   ]
  },
  {
   "cell_type": "markdown",
   "metadata": {},
   "source": [
    "# Applying t-SNE "
   ]
  },
  {
   "cell_type": "code",
   "execution_count": null,
   "metadata": {},
   "outputs": [],
   "source": [
    "perplexity = min(30, n_samples - 1)\n",
    "tsne = TSNE(n_components=2, perplexity=perplexity, random_state=42)\n",
    "images_tsne = tsne.fit_transform(images_flat_scaled)"
   ]
  },
  {
   "cell_type": "markdown",
   "metadata": {},
   "source": [
    "# Splitting the dataset into training and test sets"
   ]
  },
  {
   "cell_type": "code",
   "execution_count": null,
   "metadata": {},
   "outputs": [],
   "source": [
    "X_train, X_val, y_train, y_val = train_test_split(images_flat_scaled, labels, test_size=0.2, random_state=42)"
   ]
  },
  {
   "cell_type": "code",
   "execution_count": null,
   "metadata": {},
   "outputs": [],
   "source": [
    "X_train"
   ]
  },
  {
   "cell_type": "code",
   "execution_count": null,
   "metadata": {},
   "outputs": [],
   "source": [
    "X_val"
   ]
  },
  {
   "cell_type": "code",
   "execution_count": null,
   "metadata": {},
   "outputs": [],
   "source": [
    "X_val"
   ]
  },
  {
   "cell_type": "code",
   "execution_count": null,
   "metadata": {},
   "outputs": [],
   "source": [
    "y_val"
   ]
  },
  {
   "cell_type": "markdown",
   "metadata": {},
   "source": [
    "# Checking class distribution"
   ]
  },
  {
   "cell_type": "code",
   "execution_count": null,
   "metadata": {},
   "outputs": [],
   "source": [
    "unique, counts = np.unique(labels, return_counts=True)\n",
    "print(f\"Class distribution: {dict(zip(unique, counts))}\")"
   ]
  },
  {
   "cell_type": "code",
   "execution_count": null,
   "metadata": {},
   "outputs": [],
   "source": [
    "def plot_tsne_data(tsne_data, labels, title):\n",
    "    df_tsne = pd.DataFrame()\n",
    "    df_tsne['X'] = tsne_data[:, 0]\n",
    "    df_tsne['Y'] = tsne_data[:, 1]\n",
    "    df_tsne['Label'] = labels\n",
    "    df_tsne['Label'] = df_tsne['Label'].map({0: 'Cat', 1: 'Dog'})\n",
    "    \n",
    "    fig = px.scatter(df_tsne, x='X', y='Y', color='Label', title=title)\n",
    "    fig.show()\n",
    "\n",
    "plot_tsne_data(images_tsne, labels, 't-SNE visualization of Cats vs Dogs')"
   ]
  },
  {
   "cell_type": "markdown",
   "metadata": {},
   "source": [
    "# Training the SVM model"
   ]
  },
  {
   "cell_type": "code",
   "execution_count": null,
   "metadata": {},
   "outputs": [],
   "source": [
    "svm = SVC(kernel='linear')\n",
    "svm.fit(X_train, y_train)"
   ]
  },
  {
   "cell_type": "markdown",
   "metadata": {},
   "source": [
    "# Making predictions on the validation set"
   ]
  },
  {
   "cell_type": "code",
   "execution_count": null,
   "metadata": {},
   "outputs": [],
   "source": [
    "y_val_pred = svm.predict(X_val)"
   ]
  },
  {
   "cell_type": "code",
   "execution_count": null,
   "metadata": {},
   "outputs": [],
   "source": [
    "y_val_pred"
   ]
  },
  {
   "cell_type": "markdown",
   "metadata": {},
   "source": [
    "# Evaluating the model"
   ]
  },
  {
   "cell_type": "code",
   "execution_count": null,
   "metadata": {},
   "outputs": [],
   "source": [
    "val_accuracy = accuracy_score(y_val, y_val_pred)\n",
    "val_class_report = classification_report(y_val, y_val_pred, target_names=['Cat', 'Dog'])\n",
    "val_conf_matrix = confusion_matrix(y_val, y_val_pred)"
   ]
  },
  {
   "cell_type": "markdown",
   "metadata": {},
   "source": [
    "# Accuracy"
   ]
  },
  {
   "cell_type": "code",
   "execution_count": null,
   "metadata": {},
   "outputs": [],
   "source": [
    "print(f'Validation Accuracy: {val_accuracy:.4f}')"
   ]
  },
  {
   "cell_type": "markdown",
   "metadata": {},
   "source": [
    "# Classification Report"
   ]
  },
  {
   "cell_type": "code",
   "execution_count": null,
   "metadata": {},
   "outputs": [],
   "source": [
    "print('Validation Classification Report:')\n",
    "print(val_class_report)"
   ]
  },
  {
   "cell_type": "markdown",
   "metadata": {},
   "source": [
    "# Confusion Matrix"
   ]
  },
  {
   "cell_type": "code",
   "execution_count": null,
   "metadata": {},
   "outputs": [],
   "source": [
    "import seaborn as sns\n",
    "from sklearn.metrics import confusion_matrix\n",
    "print('Validation Confusion Matrix:')\n",
    "print(val_conf_matrix)\n",
    "plt.figure(figsize=(10, 7))\n",
    "sns.heatmap(val_conf_matrix, annot=True, fmt='d', cmap='Blues')\n",
    "plt.ylabel('Actual')\n",
    "plt.xlabel('Predicted')\n",
    "plt.title('Validation Confusion Matrix')\n",
    "plt.show()\n"
   ]
  },
  {
   "cell_type": "markdown",
   "metadata": {},
   "source": [
    "# Saving the SVM model and scaler"
   ]
  },
  {
   "cell_type": "code",
   "execution_count": null,
   "metadata": {},
   "outputs": [],
   "source": [
    "import pickle\n",
    "with open('/kaggle/working/svm_model.pkl', 'wb') as f:\n",
    "    pickle.dump(svm, f)\n",
    "with open('/kaggle/working/scaler.pkl', 'wb') as f:\n",
    "    pickle.dump(scaler, f)"
   ]
  },
  {
   "cell_type": "markdown",
   "metadata": {},
   "source": [
    "# Loading and preprocessing the test data"
   ]
  },
  {
   "cell_type": "code",
   "execution_count": null,
   "metadata": {},
   "outputs": [],
   "source": [
    "test_images, test_labels = load_images(test_dir)  \n",
    "test_images = test_images / 255.0"
   ]
  },
  {
   "cell_type": "markdown",
   "metadata": {},
   "source": [
    "# Flattening the test images for the SVM input"
   ]
  },
  {
   "cell_type": "code",
   "execution_count": null,
   "metadata": {},
   "outputs": [],
   "source": [
    "n_test_samples, test_img_height, test_img_width, test_img_channels = test_images.shape\n",
    "test_images_flat = test_images.reshape(n_test_samples, -1)\n",
    "test_images_flat_scaled = scaler.transform(test_images_flat)"
   ]
  },
  {
   "cell_type": "markdown",
   "metadata": {},
   "source": [
    "# Standardizing the test features"
   ]
  },
  {
   "cell_type": "code",
   "execution_count": null,
   "metadata": {},
   "outputs": [],
   "source": [
    "test_images_flat_scaled = scaler.transform(test_images_flat)"
   ]
  },
  {
   "cell_type": "markdown",
   "metadata": {},
   "source": [
    "# Applying t-SNE for visualization on test data"
   ]
  },
  {
   "cell_type": "code",
   "execution_count": null,
   "metadata": {},
   "outputs": [],
   "source": [
    "# Determine a new perplexity value for the test data\n",
    "test_perplexity = min(30, n_test_samples - 1)\n",
    "\n",
    "# Create a new t-SNE instance for the test data\n",
    "test_tsne = TSNE(n_components=2, perplexity=test_perplexity, random_state=42)\n",
    "test_images_tsne = test_tsne.fit_transform(test_images_flat_scaled)"
   ]
  },
  {
   "cell_type": "markdown",
   "metadata": {},
   "source": [
    "# Making predictions on the test set"
   ]
  },
  {
   "cell_type": "code",
   "execution_count": null,
   "metadata": {},
   "outputs": [],
   "source": [
    "y_test_pred = svm.predict(test_images_flat_scaled)"
   ]
  },
  {
   "cell_type": "code",
   "execution_count": null,
   "metadata": {},
   "outputs": [],
   "source": [
    "y_test_pred"
   ]
  },
  {
   "cell_type": "markdown",
   "metadata": {},
   "source": [
    "# Creating a DataFrame for Plotly"
   ]
  },
  {
   "cell_type": "code",
   "execution_count": null,
   "metadata": {},
   "outputs": [],
   "source": [
    "df_test_tsne = pd.DataFrame()\n",
    "df_test_tsne['X'] = test_images_tsne[:, 0]\n",
    "df_test_tsne['Y'] = test_images_tsne[:, 1]\n",
    "df_test_tsne['Predicted Label'] = y_test_pred\n",
    "df_test_tsne['Predicted Label'] = df_test_tsne['Predicted Label'].map({0: 'Cat', 1: 'Dog'})\n"
   ]
  },
  {
   "cell_type": "markdown",
   "metadata": {},
   "source": [
    "# Plotting with Plotly"
   ]
  },
  {
   "cell_type": "code",
   "execution_count": null,
   "metadata": {},
   "outputs": [],
   "source": [
    "fig = px.scatter(df_test_tsne, x='X', y='Y', color='Predicted Label', title='t-SNE visualization of Test Data Predictions')\n",
    "fig.show()"
   ]
  },
  {
   "cell_type": "markdown",
   "metadata": {},
   "source": [
    "# Visualizing some of the test results with Plotly"
   ]
  },
  {
   "cell_type": "code",
   "execution_count": null,
   "metadata": {},
   "outputs": [],
   "source": [
    "def plot_test_samples(images, tsne_data, predictions, sample_count=10):\n",
    "    sample_indices = np.random.choice(range(len(images)), sample_count, replace=False)\n",
    "    sample_images = images[sample_indices]\n",
    "    tsne_samples = tsne_data[sample_indices]\n",
    "    pred_samples = predictions[sample_indices]\n",
    "\n",
    "    fig = px.scatter(tsne_samples, x=tsne_samples[:, 0], y=tsne_samples[:, 1], color=pred_samples.astype(str),\n",
    "                     title=\"Test Data Predictions (t-SNE Space)\")\n",
    "    fig.show()\n",
    "\n",
    "plot_test_samples(test_images, test_images_tsne, y_test_pred)"
   ]
  },
  {
   "cell_type": "markdown",
   "metadata": {},
   "source": [
    "# Saving the test predictions to a CSV file"
   ]
  },
  {
   "cell_type": "code",
   "execution_count": null,
   "metadata": {},
   "outputs": [],
   "source": [
    "test_predictions = pd.DataFrame({'Id': np.arange(1, n_test_samples + 1), 'Label': y_test_pred})\n",
    "test_predictions['Label'] = test_predictions['Label'].map({0: 'Cat', 1: 'Dog'})\n",
    "test_predictions.to_csv('/kaggle/working/test_predictions.csv', index=False)"
   ]
  },
  {
   "cell_type": "code",
   "execution_count": null,
   "metadata": {},
   "outputs": [],
   "source": [
    "def plot_samples(tsne_data, y_true, y_pred, sample_count=10):\n",
    "    sample_indices = np.random.choice(range(len(tsne_data)), sample_count, replace=False)\n",
    "    tsne_samples = tsne_data[sample_indices]\n",
    "    y_true_samples = y_true[sample_indices]\n",
    "    y_pred_samples = y_pred[sample_indices]\n",
    "\n",
    "    df_tsne_samples = pd.DataFrame()\n",
    "    df_tsne_samples['X'] = tsne_samples[:, 0]\n",
    "    df_tsne_samples['Y'] = tsne_samples[:, 1]\n",
    "    df_tsne_samples['True Label'] = y_true_samples\n",
    "    df_tsne_samples['Predicted Label'] = y_pred_samples\n",
    "    df_tsne_samples['True Label'] = df_tsne_samples['True Label'].map({0: 'Cat', 1: 'Dog'})\n",
    "    df_tsne_samples['Predicted Label'] = df_tsne_samples['Predicted Label'].map({0: 'Cat', 1: 'Dog'})\n",
    "\n",
    "    fig = px.scatter(df_tsne_samples, x='X', y='Y', color='True Label', symbol='Predicted Label', title=\"True vs Predicted Labels (t-SNE Space)\")\n",
    "    fig.show()\n",
    "\n",
    "# Apply t-SNE to the validation data\n",
    "val_tsne = TSNE(n_components=2, perplexity=perplexity, random_state=42)\n",
    "val_images_tsne = val_tsne.fit_transform(X_val)\n",
    "\n",
    "# Plot true vs predicted labels for the validation set\n",
    "plot_samples(val_images_tsne, y_val, y_val_pred)\n"
   ]
  }
 ],
 "metadata": {
  "kaggle": {
   "accelerator": "none",
   "dataSources": [
    {
     "databundleVersionId": 31148,
     "sourceId": 3362,
     "sourceType": "competition"
    }
   ],
   "dockerImageVersionId": 30746,
   "isGpuEnabled": false,
   "isInternetEnabled": true,
   "language": "python",
   "sourceType": "notebook"
  },
  "kernelspec": {
   "display_name": "Python 3 (ipykernel)",
   "language": "python",
   "name": "python3"
  },
  "language_info": {
   "codemirror_mode": {
    "name": "ipython",
    "version": 3
   },
   "file_extension": ".py",
   "mimetype": "text/x-python",
   "name": "python",
   "nbconvert_exporter": "python",
   "pygments_lexer": "ipython3",
   "version": "3.12.3"
  }
 },
 "nbformat": 4,
 "nbformat_minor": 4
}
